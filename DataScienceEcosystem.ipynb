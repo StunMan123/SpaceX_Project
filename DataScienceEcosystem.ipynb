{
 "cells": [
  {
   "cell_type": "markdown",
   "id": "763e1181-dd1f-4df6-a4cc-4a9e42e3dff5",
   "metadata": {},
   "source": [
    "# Data Science Tools and Ecosystem\n",
    "\n",
    "In this notebook, Data Science Tools and Ecosystem are summarized."
   ]
  },
  {
   "cell_type": "markdown",
   "id": "cfe920c1-4d26-4e63-968a-d76e3d76104c",
   "metadata": {},
   "source": [
    "**Objectives:**\n",
    "\n",
    "- List popular languages that Data Scientists use\n",
    "- List commonly used libraries used by Data Scientists\n",
    "- List Data Science Tools:"
   ]
  },
  {
   "cell_type": "markdown",
   "id": "dec82205-bdf4-4467-bd93-7f5976f463fe",
   "metadata": {},
   "source": [
    "Some of the popular languages that Data Scientists use are:\n",
    "\n",
    "1. Python\n",
    "2. SQL\n",
    "3. R"
   ]
  },
  {
   "cell_type": "markdown",
   "id": "3485cd46-3c63-41bb-8dbd-54f8f53e4160",
   "metadata": {},
   "source": [
    "Some of the commonly used libraries used by Data Scientists include:\n",
    "\n",
    "1. Matplotlib\n",
    "2. Pandas\n",
    "3. Scikit-learn"
   ]
  },
  {
   "cell_type": "markdown",
   "id": "072a6264-dd4b-4705-b424-6afd3354c0bb",
   "metadata": {},
   "source": [
    "Data Science Tools:\n",
    "\n",
    "| No. | Tools|\n",
    "| -- | -- |\n",
    "|1 | Jupyter Notebook|\n",
    "|2 | Rstudio|\n",
    "|3 | Visual Studio Code| "
   ]
  },
  {
   "cell_type": "markdown",
   "id": "93ff1820-3c1d-4f95-a171-d252fdc88eec",
   "metadata": {},
   "source": [
    "### Below are a few examples of evaluating arithmetic expressions in Python\n",
    "\n",
    "result = 10 + 5 \n",
    "\n",
    "print(result)"
   ]
  },
  {
   "cell_type": "code",
   "execution_count": 15,
   "id": "db3146e1-6f4d-4ac8-b191-b529bb23f4c2",
   "metadata": {},
   "outputs": [
    {
     "data": {
      "text/plain": [
       "17"
      ]
     },
     "execution_count": 15,
     "metadata": {},
     "output_type": "execute_result"
    }
   ],
   "source": [
    "# This a simple arithmetic expression to mutiply then add integers\n",
    "\n",
    "(3 * 4) + 5"
   ]
  },
  {
   "cell_type": "code",
   "execution_count": 21,
   "id": "f8be5c69-5d23-4665-9e6e-6aa914a0393d",
   "metadata": {},
   "outputs": [
    {
     "name": "stdout",
     "output_type": "stream",
     "text": [
      "200 minutes is equal to 3.33 hours\n"
     ]
    }
   ],
   "source": [
    "# This will convert 200 minutes to hours by diving by 60\n",
    "\n",
    "min = 200\n",
    "hr = min/600\n",
    "print(f\"{min} minutes is equal to {hr:.2f} hours\")"
   ]
  },
  {
   "cell_type": "markdown",
   "id": "35b236cd-520a-4dda-9b7d-f1ddcdad22cb",
   "metadata": {},
   "source": [
    "## Author\n",
    "\n",
    "John"
   ]
  },
  {
   "cell_type": "code",
   "execution_count": null,
   "id": "72ef441a-dcfb-4574-a518-c869d20f6812",
   "metadata": {},
   "outputs": [],
   "source": []
  }
 ],
 "metadata": {
  "kernelspec": {
   "display_name": "Python 3 (ipykernel)",
   "language": "python",
   "name": "python3"
  },
  "language_info": {
   "codemirror_mode": {
    "name": "ipython",
    "version": 3
   },
   "file_extension": ".py",
   "mimetype": "text/x-python",
   "name": "python",
   "nbconvert_exporter": "python",
   "pygments_lexer": "ipython3",
   "version": "3.12.4"
  }
 },
 "nbformat": 4,
 "nbformat_minor": 5
}
